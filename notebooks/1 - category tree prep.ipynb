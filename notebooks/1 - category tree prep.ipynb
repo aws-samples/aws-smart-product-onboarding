{
 "cells": [
  {
   "cell_type": "markdown",
   "id": "dd457bb95d676a67",
   "metadata": {},
   "source": [
    "# Category Tree Preparation and Attribute Schema Generation\n",
    "\n",
    "Copyright Amazon.com, Inc. or its affiliates. All Rights Reserved.<br>\n",
    "SPDX-License-Identifier: MIT-0"
   ]
  },
  {
   "cell_type": "markdown",
   "id": "cfde975de50f3e92",
   "metadata": {},
   "source": [
    "## Introduction\n",
    "\n",
    "This notebook demonstrates the process of preparing a category tree and generating attribute schemas for product categorization and attribute extraction. While we use the GS1 Global Product Classification (GPC) as an example, this process can be adapted for your own category tree.\n",
    "\n",
    "Important Note for Customers:\n",
    "This accelerator uses the GS1 GPC as an example. When adapting this process for your tree, keep in mind:\n",
    "\n",
    "1. Navigation Trees vs. Taxonomies: Many retailers have navigation trees, which often include duplicate categories to make products findable in multiple locations. However, for automatic categorization, it's better to use a taxonomy where each product has exactly one correct category.\n",
    "\n",
    "2. Converting Navigation Trees to Taxonomies: If you're starting with a navigation tree, you'll need to convert it to a taxonomy. This typically involves:\n",
    "   - Identifying and removing duplicate categories\n",
    "   - Identifying and removing attribute categories\n",
    "   - Creating mappings from your taxonomy and attributes back to your navigation tree to preserve findability\n",
    "\n",
    "3. Category Descriptions: Clear, concise descriptions for each category are very helpful for accurate categorization. If your tree doesn't include these, it's worth the effort to create them.\n",
    "\n",
    "4. Attribute Schemas: You'll need to define the relevant attributes for each category. These should be specific enough to capture important product details but general enough to apply to all products in the category.\n",
    "\n",
    "The following process demonstrates how to structure and optimize your category tree and attribute schemas, regardless of their source. Adapt each step as needed for your specific category structure.\n"
   ]
  },
  {
   "cell_type": "markdown",
   "id": "d25dd603082c6730",
   "metadata": {},
   "source": [
    "## Setup and Data Loading"
   ]
  },
  {
   "cell_type": "code",
   "id": "f66028b163e78690",
   "metadata": {},
   "source": [
    "import csv\n",
    "import json\n",
    "import random\n",
    "\n",
    "import boto3\n",
    "from botocore.config import Config\n",
    "from jinja2 import Template\n",
    "from pympler import asizeof\n"
   ],
   "outputs": [],
   "execution_count": null
  },
  {
   "cell_type": "markdown",
   "id": "7f369fda6e91be26",
   "metadata": {},
   "source": [
    "Download the GS1 GPC in json format from https://gpc-browser.gs1.org/ and store it in the `data/` folder. Update the file name in the cell below."
   ]
  },
  {
   "cell_type": "code",
   "id": "9afd39d1e1761e3d",
   "metadata": {},
   "source": [
    "with open('data/GPC as of November 2024 v20241202 GB.json', 'r') as fp:\n",
    "    gpc = json.load(fp)"
   ],
   "outputs": [],
   "execution_count": null
  },
  {
   "cell_type": "markdown",
   "id": "b51a5527520bdc0",
   "metadata": {},
   "source": [
    "Let's inspect the general format of the gpc data"
   ]
  },
  {
   "cell_type": "code",
   "id": "9d667ec1e4680e34",
   "metadata": {},
   "source": [
    "print(gpc['Schema'][0])"
   ],
   "outputs": [],
   "execution_count": null
  },
  {
   "cell_type": "markdown",
   "id": "d7ee42cd138d30b0",
   "metadata": {},
   "source": [
    "## Category Tree Generation"
   ]
  },
  {
   "cell_type": "code",
   "id": "771ffe11b0f67aaa",
   "metadata": {},
   "source": [
    "def iterate_category_tree(tree, path=[]):\n",
    "    if tree['Level'] <= 4:\n",
    "        path.append({'id': str(tree['Code']), 'name': tree['Title'], })\n",
    "\n",
    "        childs = []\n",
    "        for child in tree.get('Childs', []):\n",
    "            if child['Level'] <= 4:\n",
    "                childs.append({\n",
    "                    'id': str(child['Code']),\n",
    "                    'name': child['Title'],\n",
    "                })\n",
    "                yield from iterate_category_tree(child, path)\n",
    "\n",
    "        yield {\n",
    "            'id': str(tree['Code']),\n",
    "            'name': tree['Title'],\n",
    "            'full_path': path.copy(),\n",
    "            'description': tree['Definition'],\n",
    "            'childs': childs,\n",
    "        }\n",
    "        path.pop()"
   ],
   "outputs": [],
   "execution_count": null
  },
  {
   "cell_type": "code",
   "id": "3be8109337d5e222",
   "metadata": {},
   "source": [
    "cattree = {}\n",
    "cattree['root'] = {\n",
    "    'id': 'root',\n",
    "    'name': 'root',\n",
    "    'full_path': [],\n",
    "    'description': 'Top level',\n",
    "    'childs': [],\n",
    "}\n",
    "for schema in gpc['Schema']:\n",
    "    cattree['root']['childs'].append({\n",
    "        'id': str(schema['Code']),\n",
    "        'name': schema['Title'],\n",
    "    })\n",
    "    for cat in iterate_category_tree(schema):\n",
    "        cattree[cat['id']] = cat"
   ],
   "outputs": [],
   "execution_count": null
  },
  {
   "cell_type": "code",
   "id": "bca6d395c23d7b30",
   "metadata": {},
   "source": [
    "len(cattree)"
   ],
   "outputs": [],
   "execution_count": null
  },
  {
   "cell_type": "code",
   "id": "786c5bb9befbc81",
   "metadata": {},
   "source": [
    "cattree['10001674']"
   ],
   "outputs": [],
   "execution_count": null
  },
  {
   "cell_type": "code",
   "id": "41a861084c2a89f9",
   "metadata": {},
   "source": [
    "with open('data/labelcats.json', 'w') as f:\n",
    "    json.dump(cattree, f)"
   ],
   "outputs": [],
   "execution_count": null
  },
  {
   "cell_type": "markdown",
   "id": "8c4e8c3de8d8e94f",
   "metadata": {},
   "source": [
    "## Attribute Schema Generation\n",
    "In order to do so, let's first build a dictionary that maps L4 category Codes to L5 and above attribute definitions."
   ]
  },
  {
   "cell_type": "code",
   "id": "abd0b50968b44925",
   "metadata": {},
   "source": [
    "def build_dict(data, full_path=\"\"):\n",
    "    result = {}\n",
    "\n",
    "    if data['Level'] <= 4:\n",
    "        if data['Level'] == 4:\n",
    "            result[data['Code']] = {\n",
    "                'category': data['Title'],\n",
    "                'subcategory': full_path,\n",
    "                'attributes_schema': data['Childs'] if data['Childs'] else None\n",
    "            }\n",
    "        else:\n",
    "            # Recursively process each child\n",
    "            for child in data.get('Childs', []):\n",
    "                result.update(build_dict(child, full_path=f\"{full_path}/{data['Title']}\"))\n",
    "    else:\n",
    "        return data['Childs']\n",
    "\n",
    "    return result\n"
   ],
   "outputs": [],
   "execution_count": null
  },
  {
   "cell_type": "markdown",
   "id": "68f2e22bc72de7fa",
   "metadata": {},
   "source": [
    "Now let's load all schemas in the gpc file"
   ]
  },
  {
   "cell_type": "code",
   "id": "c2cb43cf1730b9dc",
   "metadata": {},
   "source": [
    "attrs_dict = {}\n",
    "\n",
    "for schema in gpc['Schema']:\n",
    "    attr_dict = build_dict(schema)\n",
    "    attrs_dict.update(attr_dict)"
   ],
   "outputs": [],
   "execution_count": null
  },
  {
   "cell_type": "code",
   "id": "77fbc32a5e9ff04c",
   "metadata": {},
   "source": [
    "# let's inspect one of the categories\n",
    "code, category_schema = random.choice(list(attrs_dict.items()))\n",
    "\n",
    "print(f\"Category code: {code}\")\n",
    "print(f\"Category schema: {category_schema}\")"
   ],
   "outputs": [],
   "execution_count": null
  },
  {
   "cell_type": "code",
   "id": "5b8d1f02fb7a306d",
   "metadata": {},
   "source": [
    "# How many categories do we have?\n",
    "len(attrs_dict.keys())"
   ],
   "outputs": [],
   "execution_count": null
  },
  {
   "cell_type": "code",
   "id": "cc9496a0c76459d3",
   "metadata": {},
   "source": [
    "# let's inspect the Computer Pointing Devices category, a.k.a. Mouses!\n",
    "attrs_dict[10001151]"
   ],
   "outputs": [],
   "execution_count": null
  },
  {
   "cell_type": "code",
   "id": "584cd30ea6ba9bf0",
   "metadata": {},
   "source": [
    "asizeof.asizeof(attrs_dict) / 1_000_000  # converting bytes to MB decimal"
   ],
   "outputs": [],
   "execution_count": null
  },
  {
   "cell_type": "markdown",
   "id": "c5ae1bb36b59109e",
   "metadata": {},
   "source": [
    "### Optimizing for semantic meaning of content of data structure\n",
    "\n",
    "The memory footprint of the datastructure (~93MB) is a slight problem (specially if we want to load it in memory in our lambda function), also it might carry information that is not useful for attribute extraction. As an example this is an excerpt from a json used in a previous prototype, which is very lean and every property carries significant meaning for attribute extraction.\n",
    "\n",
    "```json\n",
    "{\n",
    "  \"$schema\": \"http://json-schema.org/draft-07/schema#\",\n",
    "  \"type\": \"object\",\n",
    "  \"properties\": {\n",
    "    \"Estado\": {\n",
    "      \"type\": \"string\",\n",
    "      \"enum\": [\"Novo\", \"Usado\"],\n",
    "      \"description\": \"Indica a condição do produto, como novo, usado ou recondicionado.\"\n",
    "    },\n",
    "    \"Marca\": {\n",
    "      \"type\": \"string\",\n",
    "      \"enum\": [\"Samsung\", \"Electrolux\", \"Brastemp\", \"Apple\", \"Xiaomi\", \"Oster\"],\n",
    "      \"description\": \"Nome do fabricante ou da marca do produto.\"\n",
    "    },\n",
    "    \"Voltagem\": {\n",
    "      \"type\": \"string\",\n",
    "      \"enum\": [\"110 V\", \"220 V\", \"Bivolt\"],\n",
    "      \"description\": \"A voltagem elétrica necessária para o funcionamento do ar condicionado (em volts).\"\n",
    "    },\n",
    "    ...\n",
    "```\n",
    "\n",
    "\n"
   ]
  },
  {
   "cell_type": "markdown",
   "id": "e537082d92afe634",
   "metadata": {},
   "source": [
    "That said, let's remove: `Level`, `Code`, all None-valued properties, and let's use the `Active` property as a condition."
   ]
  },
  {
   "cell_type": "code",
   "id": "c3c313c0cbccf284",
   "metadata": {},
   "source": [
    "def optimize_dict(target):\n",
    "    if isinstance(target, list):\n",
    "        return [optimize_dict(elm) for elm in target]\n",
    "\n",
    "    if target is None:\n",
    "        return\n",
    "\n",
    "    if not target.get(\"Active\", False):\n",
    "        return\n",
    "\n",
    "    new_dict = {k: v for k, v in target.items() if v is not None and k not in [\"Code\", \"Level\", \"Childs\", \"Active\"]}\n",
    "    if \"Childs\" in target and target[\"Childs\"] is not None:\n",
    "        new_dict[\"Childs\"] = optimize_dict(target[\"Childs\"])\n",
    "\n",
    "    return new_dict"
   ],
   "outputs": [],
   "execution_count": null
  },
  {
   "cell_type": "code",
   "id": "d4d98caf6aee179a",
   "metadata": {},
   "source": [
    "# linted_attrs_dict = {k: optimize_dict(v) for k, v in attrs_dict.items()}\n",
    "linted_attrs_dict = {}\n",
    "for code, category_schema in attrs_dict.items():\n",
    "    linted_attrs_dict[str(code)] = {\n",
    "        \"category_name\": category_schema[\"category\"],\n",
    "        \"subcategory_name\": category_schema[\"subcategory\"],\n",
    "        \"attributes_schema\": optimize_dict(category_schema[\"attributes_schema\"])\n",
    "    }"
   ],
   "outputs": [],
   "execution_count": null
  },
  {
   "cell_type": "code",
   "id": "23e2247f72519eff",
   "metadata": {},
   "source": [
    "# let's again, sample one of the items\n",
    "\n",
    "random.choice(list(linted_attrs_dict.items()))"
   ],
   "outputs": [],
   "execution_count": null
  },
  {
   "cell_type": "code",
   "id": "24f1679add7f1ada",
   "metadata": {},
   "source": [
    "asizeof.asizeof(linted_attrs_dict) / 1_000_000  # converting bytes to MB decimal"
   ],
   "outputs": [],
   "execution_count": null
  },
  {
   "cell_type": "markdown",
   "id": "701930ea2ad39322",
   "metadata": {},
   "source": [
    "As a side-effect we shaved off ~20MB, but we are still somewhat large. Let's serialize to json and check the resulting size"
   ]
  },
  {
   "cell_type": "code",
   "id": "34f8f4bee5dcd6b6",
   "metadata": {},
   "source": [
    "with open('data/linted_attrs.json', 'w') as f:\n",
    "    f.write(json.dumps(linted_attrs_dict))"
   ],
   "outputs": [],
   "execution_count": null
  },
  {
   "cell_type": "code",
   "id": "7cbf4384d6af3681",
   "metadata": {},
   "source": [
    "ssm_prefix = '/ProductCategorization/'\n",
    "ssm = boto3.client('ssm')"
   ],
   "outputs": [],
   "execution_count": null
  },
  {
   "cell_type": "code",
   "id": "136c4490dc86a6d7",
   "metadata": {},
   "source": [
    "config_bucket = ssm.get_parameter(Name=f\"{ssm_prefix}ConfigurationBucket\")['Parameter']['Value']"
   ],
   "outputs": [],
   "execution_count": null
  },
  {
   "cell_type": "code",
   "id": "d35e624b24f94163",
   "metadata": {},
   "source": [
    "config_bucket"
   ],
   "outputs": [],
   "execution_count": null
  },
  {
   "cell_type": "code",
   "id": "316f68085b3dc271",
   "metadata": {},
   "source": [
    "!aws s3 cp data/linted_attrs.json s3://{config_bucket}/data/attributes_schema.json"
   ],
   "outputs": [],
   "execution_count": null
  },
  {
   "cell_type": "markdown",
   "id": "1482dbd23408c3f1",
   "metadata": {},
   "source": [
    "The serialized schema has ~20MB. This is manageable for the Lambda function, so we will move fw as is."
   ]
  },
  {
   "cell_type": "markdown",
   "id": "91ac6f542f0a7813",
   "metadata": {},
   "source": [
    "## Experimenting with attribute extraction (Optional)\n",
    "\n",
    "Let's load a couple of products and try to extract attributes from their title/description/image data.\n",
    "\n",
    "Download the amazon.csv dataset from https://www.kaggle.com/datasets/karkavelrajaj/amazon-sales-dataset and put it in the `data/` directory."
   ]
  },
  {
   "cell_type": "code",
   "id": "1c4f7497534863b1",
   "metadata": {},
   "source": [
    "with open('data/amazon.csv', mode='r') as csvfile:\n",
    "    reader = csv.DictReader(csvfile)\n",
    "    data = [row for row in reader]\n",
    "\n",
    "# let's get this one product we know to be a computer mouse\n",
    "product = next(filter(lambda p: p['product_id'] == \"B0819HZPXL\", data))"
   ],
   "outputs": [],
   "execution_count": null
  },
  {
   "cell_type": "code",
   "id": "5c5aaba40fa7125c",
   "metadata": {},
   "source": [
    "# B0819HZPXL - \n",
    "product"
   ],
   "outputs": [],
   "execution_count": null
  },
  {
   "cell_type": "markdown",
   "id": "3bd938943805419c",
   "metadata": {},
   "source": [
    "Let's experiment with the same prompt used in our recent attr extraction prototype"
   ]
  },
  {
   "cell_type": "code",
   "id": "f1576dc14d82696a",
   "metadata": {},
   "source": [
    "config = Config(\n",
    "    connect_timeout=120,\n",
    "    read_timeout=120,\n",
    "    retries={\n",
    "        \"max_attempts\": 10,\n",
    "        \"mode\": \"adaptive\",\n",
    "    })\n",
    "\n",
    "bedrock_client = boto3.session.Session().client('bedrock-runtime', config=config)"
   ],
   "outputs": [],
   "execution_count": null
  },
  {
   "cell_type": "code",
   "id": "68c977ac4773f04a",
   "metadata": {},
   "source": [
    "prompt_template = \"\"\"You are an AI assistant tasked with extracting product attributes from a given title and\n",
    "description. You will be provided with a category, subcategory, and a JSON schema with attributes.\n",
    "Your job is to identify which of these attributes are present in the title and\n",
    "description, and what their values are.\n",
    "\n",
    "Here is the information about the product category and attributes:\n",
    "\n",
    "<category>\n",
    "{{category}}\n",
    "</category>\n",
    "\n",
    "<subcategory>\n",
    "{{subcategory}}\n",
    "</subcategory>\n",
    "\n",
    "<attributes_schema>\n",
    "{{attributes_schema}}\n",
    "</attributes_schema>\n",
    "\n",
    "Now, here is the product information you need to analyze:\n",
    "\n",
    "<title>\n",
    "{{product_title}}\n",
    "</title>\n",
    "\n",
    "<description>\n",
    "{{product_description}}\n",
    "</description>\n",
    "\n",
    "Your task is to extract the actual attributes and their values from the title and description.\n",
    "Follow these steps:\n",
    "\n",
    "1. Carefully read through the title and description.\n",
    "2. For each attribute listed in the schema, determine if it is mentioned in the title or description.\n",
    "3. If an attribute is present, identify its specific value based on the information provided.\n",
    "4. If an attribute is not mentioned or its value cannot be determined, set its value to null.\n",
    "3. For colors, approximate to the closest one.\n",
    "\n",
    "Before providing your final answer, use a <scratchpad> to think through your extraction process.\n",
    "List out each attribute, whether you found it, and what value you assigned to it.\n",
    "\n",
    "After your analysis, provide your answer as a JSON object following the schema. After the scratchpad, only output valid json.\n",
    "\n",
    "Important notes:\n",
    "- Include all attributes listed in the schema, even if their value is null.\n",
    "- Be as specific and accurate as possible when extracting values.\n",
    "- Don't assume anything.\n",
    "\n",
    "Remember, your goal is to extract as much accurate information as possible from the given title and\n",
    "description, based on the provided category, subcategory, and possible attributes in the schema.\n",
    "\"\"\""
   ],
   "outputs": [],
   "execution_count": null
  },
  {
   "cell_type": "code",
   "id": "da1dc03ecf51f9d7",
   "metadata": {},
   "source": [
    "prompt_template = \"\"\"You are an AI assistant tasked with extracting product attributes from a given title and\n",
    "description. You will be provided with a category, subcategory, and an XML schema for attributes.\n",
    "Your job is to identify which of these attributes are present in the title and\n",
    "description, and what their values are.\n",
    "\n",
    "Here is the information about the product category and attributes:\n",
    "\n",
    "<category>\n",
    "{{category}}\n",
    "</category>\n",
    "\n",
    "<subcategory>\n",
    "{{subcategory}}\n",
    "</subcategory>\n",
    "\n",
    "<attributes_schema>\n",
    "{{attributes_schema}}\n",
    "</attributes_schema>\n",
    "\n",
    "Now, here is the product information you need to analyze:\n",
    "\n",
    "<title>\n",
    "{{product_title}}\n",
    "</title>\n",
    "\n",
    "<description>\n",
    "{{product_description}}\n",
    "</description>\n",
    "\n",
    "Your task is to extract the actual attributes and their values from the title and description.\n",
    "Follow these steps:\n",
    "\n",
    "1. Carefully read through the title and description.\n",
    "2. For each attribute listed in the schema, determine if it is mentioned in the title or description.\n",
    "3. If an attribute is present, identify its specific value based on the information provided.\n",
    "4. If an attribute is not mentioned or its value cannot be determined, set its value to null.\n",
    "3. For colors, approximate to the closest one.\n",
    "\n",
    "Before providing your final answer, use a <scratchpad></scratchpad> to think through your extraction process.\n",
    "List out each attribute, whether you found it, and what value you assigned to it.\n",
    "\n",
    "After your analysis, provide your answer as an XML object with the following format:\n",
    "\n",
    "<attributes>\n",
    "  <attribute>\n",
    "    <name>attribute name</name>\n",
    "    <value>value of attribute</value>\n",
    "  </attribute>\n",
    "  <attribute>\n",
    "    <name>other attribute name</name>\n",
    "    <value>value of other attribute</value>\n",
    "  </attribute>\n",
    "</attributes>\n",
    "\n",
    "After the scratchpad, only output valid XML.\n",
    "\n",
    "Important notes:\n",
    "- Include all attributes listed in the schema, even if their value is null.\n",
    "- Be as specific and accurate as possible when extracting values.\n",
    "- Don't assume anything.\n",
    "- wrap your entire answer in <response></response> XML tags.\n",
    "\n",
    "Remember, your goal is to extract as much accurate information as possible from the given title and\n",
    "description, based on the provided category, subcategory, and possible attributes in the schema.\"\"\""
   ],
   "outputs": [],
   "execution_count": null
  },
  {
   "cell_type": "code",
   "id": "3e2797624e366d7",
   "metadata": {},
   "source": [
    "# Helper function to convert JSON to XML\n",
    "def json_to_xml(json_obj, line_padding=\"\"):\n",
    "    \"\"\"Recursively convert JSON object to XML string.\"\"\"\n",
    "    result_list = []\n",
    "\n",
    "    if isinstance(json_obj, dict):\n",
    "        for tag_name, sub_obj in json_obj.items():\n",
    "            result_list.append(f\"{line_padding}<{tag_name}>\")\n",
    "            result_list.append(json_to_xml(sub_obj, line_padding + \"  \"))\n",
    "            result_list.append(f\"{line_padding}</{tag_name}>\")\n",
    "    elif isinstance(json_obj, list):\n",
    "        for sub_obj in json_obj:\n",
    "            result_list.append(json_to_xml(sub_obj, line_padding))\n",
    "    else:\n",
    "        result_list.append(f\"{line_padding}{json_obj}\")\n",
    "\n",
    "    return \"\\n\".join(result_list)"
   ],
   "outputs": [],
   "execution_count": null
  },
  {
   "cell_type": "code",
   "id": "2e089c8da8d32308",
   "metadata": {},
   "source": [
    "category_schema = linted_attrs_dict[\"10001151\"]\n",
    "category_schema"
   ],
   "outputs": [],
   "execution_count": null
  },
  {
   "cell_type": "code",
   "id": "5cc7642c1d4f0fde",
   "metadata": {},
   "source": [
    "prompt = Template(prompt_template).render({\n",
    "    \"category\": category_schema['category_name'],\n",
    "    \"subcategory\": category_schema['subcategory_name'],\n",
    "    \"attributes_schema\": json_to_xml(category_schema['attributes_schema']),\n",
    "    \"product_title\": product['product_name'],\n",
    "    \"product_description\": product['about_product'],\n",
    "})\n",
    "\n"
   ],
   "outputs": [],
   "execution_count": null
  },
  {
   "cell_type": "code",
   "id": "55b816b61922bb1a",
   "metadata": {},
   "source": [
    "print(prompt)"
   ],
   "outputs": [],
   "execution_count": null
  },
  {
   "cell_type": "code",
   "id": "375445376c10a26e",
   "metadata": {},
   "source": [
    "message = {\n",
    "    'role': 'user',\n",
    "    'content': [\n",
    "        {'text': prompt}\n",
    "    ]\n",
    "}\n",
    "\n",
    "response = bedrock_client.converse(\n",
    "    modelId=\"anthropic.claude-3-5-sonnet-20240620-v1:0\",\n",
    "    # system=[{\"text\": system_prompt}],\n",
    "    inferenceConfig={\n",
    "        \"temperature\": 0,\n",
    "    },\n",
    "    messages=[message])"
   ],
   "outputs": [],
   "execution_count": null
  },
  {
   "cell_type": "code",
   "id": "402e3544d131f88a",
   "metadata": {},
   "source": [
    "print(response[\"output\"][\"message\"][\"content\"][0][\"text\"])"
   ],
   "outputs": [],
   "execution_count": null
  },
  {
   "cell_type": "code",
   "id": "e656edca5f116505",
   "metadata": {},
   "source": [
    "response"
   ],
   "outputs": [],
   "execution_count": null
  },
  {
   "cell_type": "code",
   "id": "9d788057aa25e9b",
   "metadata": {},
   "source": [
    "product[\"product_name\"]"
   ],
   "outputs": [],
   "execution_count": null
  },
  {
   "cell_type": "code",
   "id": "c0177e09d109e6ee",
   "metadata": {},
   "source": [
    "product[\"about_product\"]"
   ],
   "outputs": [],
   "execution_count": null
  },
  {
   "cell_type": "code",
   "id": "309c2439777da2b7",
   "metadata": {},
   "source": [
    "another_product = next(filter(lambda p: p[\"product_id\"] == \"B08VF8V79P\", data))\n",
    "another_product"
   ],
   "outputs": [],
   "execution_count": null
  },
  {
   "cell_type": "code",
   "id": "ad4c0d8f7cc1c42",
   "metadata": {},
   "source": [
    "prompt = Template(prompt_template).render({\n",
    "    \"category\": \"Battery Chargers\",\n",
    "    \"subcategory\": \"Chargers\",\n",
    "    \"attributes_schema\": json_to_xml(linted_attrs_dict[\"10000548\"]),\n",
    "    \"product_title\": another_product['product_name'],\n",
    "    \"product_description\": another_product['about_product'],\n",
    "})"
   ],
   "outputs": [],
   "execution_count": null
  },
  {
   "cell_type": "code",
   "id": "db2eae556a53d6c",
   "metadata": {},
   "source": [
    "print(prompt)"
   ],
   "outputs": [],
   "execution_count": null
  },
  {
   "cell_type": "code",
   "id": "a6dcf8260365fd95",
   "metadata": {},
   "source": [
    "message = {\n",
    "    'role': 'user',\n",
    "    'content': [\n",
    "        {'text': prompt}\n",
    "    ]\n",
    "}\n",
    "\n",
    "response = bedrock_client.converse(\n",
    "    modelId=\"anthropic.claude-3-5-sonnet-20240620-v1:0\",\n",
    "    # system=[{\"text\": system_prompt}],\n",
    "    inferenceConfig={\n",
    "        \"temperature\": 0,\n",
    "    },\n",
    "    messages=[message])\n",
    "\n",
    "print(response[\"output\"][\"message\"][\"content\"][0][\"text\"])"
   ],
   "outputs": [],
   "execution_count": null
  },
  {
   "cell_type": "markdown",
   "id": "af8bbc52aecf5f1a",
   "metadata": {},
   "source": [
    "## Conclusion\n",
    "\n",
    "This notebook has processed the GPC data to create optimized data structures for product categorization and attribute extraction. The main outputs are:\n",
    "\n",
    "1. A cleaned and structured category tree (labelcats.json)\n",
    "2. An optimized attribute schema (linted_attrs.json)\n",
    "\n",
    "These files have been saved locally and uploaded to S3 for use in the system. The notebook also includes an experiment demonstrating attribute extraction using the prepared data structures and Amazon Bedrock.\n"
   ]
  }
 ],
 "metadata": {
  "kernelspec": {
   "display_name": "Python 3 (ipykernel)",
   "language": "python",
   "name": "python3"
  },
  "language_info": {
   "codemirror_mode": {
    "name": "ipython",
    "version": 3
   },
   "file_extension": ".py",
   "mimetype": "text/x-python",
   "name": "python",
   "nbconvert_exporter": "python",
   "pygments_lexer": "ipython3",
   "version": "3.12.7"
  }
 },
 "nbformat": 4,
 "nbformat_minor": 5
}
