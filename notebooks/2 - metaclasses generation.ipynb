{
 "cells": [
  {
   "cell_type": "markdown",
   "id": "70fc2704-b80f-4872-a911-4357eef2f254",
   "metadata": {},
   "source": [
    "# Metaclasses Generation from Category Tree and Language Adaptiation\n",
    "This notebook guides you through the process of generating metaclasses for product categorization and adapting the system for different languages. We'll be preparing the necessary data structures to configure the `TextCleaner` class, which is used both in this notebook and in the production system.\n",
    "\n",
    "The process is iterative: we'll start with initial data structures, analyze the category tree, and then refine our configurations based on the results.\n",
    "\n",
    "Copyright Amazon.com, Inc. or its affiliates. All Rights Reserved.<br>\n",
    "SPDX-License-Identifier: MIT-0"
   ]
  },
  {
   "cell_type": "markdown",
   "id": "ae7e10d7dd4e7893",
   "metadata": {},
   "source": [
    "## Process Overview\n",
    "\n",
    "This notebook follows a structured process to prepare and analyze category data:\n",
    "\n",
    "1. Load and analyze the category tree\n",
    "2. Prepare and refine text cleaning configurations\n",
    "3. Clean and analyze category names\n",
    "4. Generate and analyze word embeddings\n",
    "5. Identify special categories (like media)\n",
    "6. Adapt the process for different languages (optional)\n",
    "7. Persist the prepared data for use in production\n",
    "\n",
    "Each step builds on the previous ones, creating a robust foundation for product categorization."
   ]
  },
  {
   "cell_type": "markdown",
   "id": "7aa11568-4e16-4854-b479-a81bc53fa2e7",
   "metadata": {},
   "source": [
    "## Setup\n",
    "### Prerequisites\n",
    "The IAM user or role used by this notebook needs access to Amazon S3 and AWS Systems Manager."
   ]
  },
  {
   "cell_type": "code",
   "execution_count": null,
   "id": "952a1d03-05c0-4690-bf5f-e0de90b75fa7",
   "metadata": {
    "ExecuteTime": {
     "end_time": "2024-12-08T20:46:22.934166Z",
     "start_time": "2024-12-08T20:46:22.310481Z"
    },
    "tags": []
   },
   "outputs": [],
   "source": [
    "import pandas as pd\n",
    "import json\n",
    "from collections import Counter\n",
    "import boto3\n",
    "\n",
    "from mypy_boto3_ssm import SSMClient\n"
   ]
  },
  {
   "cell_type": "code",
   "execution_count": null,
   "id": "d8ce55a3e7ff9584",
   "metadata": {
    "ExecuteTime": {
     "end_time": "2024-12-08T20:46:28.963058Z",
     "start_time": "2024-12-08T20:46:28.488060Z"
    }
   },
   "outputs": [],
   "source": [
    "ssm: SSMClient = boto3.client('ssm')\n",
    "ssm_prefix = '/ProductCategorization/'"
   ]
  },
  {
   "cell_type": "markdown",
   "id": "31df2ddf21d504fc",
   "metadata": {},
   "source": [
    "## Load and Analyze the Category Tree\n",
    "\n",
    "First, let's load our category data and examine its structure."
   ]
  },
  {
   "cell_type": "code",
   "execution_count": null,
   "id": "dd1afb8c5dee9d2e",
   "metadata": {
    "ExecuteTime": {
     "end_time": "2024-12-08T20:44:51.091201Z",
     "start_time": "2024-12-08T20:44:51.053891Z"
    }
   },
   "outputs": [],
   "source": [
    "# Load category data\n",
    "with open(\"data/labelcats.json\", \"r\") as f:\n",
    "    category_tree = json.load(f)\n",
    "\n",
    "\n",
    "# Function to get leaf categories\n",
    "def get_leaf_categories(cat_tree):\n",
    "    leaf_categories = []\n",
    "    for cat_id in cat_tree:\n",
    "        if cat_id == 'root':\n",
    "            continue\n",
    "        category = cat_tree[cat_id]\n",
    "        if len(category.get('childs', [])) <= 0:\n",
    "            leaf_categories.append({\n",
    "                'name': category['name'],\n",
    "                'id': category['id'],\n",
    "                'description': category['description']\n",
    "            })\n",
    "    return leaf_categories\n",
    "\n",
    "\n",
    "leaf_categories = get_leaf_categories(category_tree)\n",
    "leaf_df = pd.DataFrame(leaf_categories)\n",
    "\n",
    "print(f\"Total leaf categories: {len(leaf_df)}\")\n",
    "leaf_df.head()\n"
   ]
  },
  {
   "cell_type": "markdown",
   "id": "f74ff7294a84fac4",
   "metadata": {},
   "source": [
    "### Text Refinement Preparation\n",
    "\n",
    "Before we start processing our category data, we need to set up some initial data structures. These structures are crucial for effective text cleaning and categorization:\n",
    "\n",
    "- Singularization exceptions: Words that don't follow standard singularization rules\n",
    "- Descriptors: Common words that don't help differentiate categories\n",
    "- Brands: Brand names that should be excluded from category analysis\n",
    "- Synonyms: Alternative terms for the same concept\n",
    "\n",
    "These structures help ensure that our text cleaning process is accurate and that we're focusing on the most meaningful words in our category names."
   ]
  },
  {
   "cell_type": "code",
   "execution_count": null,
   "id": "ca239e0db2f64bf1",
   "metadata": {},
   "outputs": [],
   "source": [
    "# Initial singularization exceptions\n",
    "singularize_exceptions = {\n",
    "    \"clothes\": \"clothes\",\n",
    "    \"canvas\": \"canvas\",\n",
    "    \"fruticosus\": \"fruticosus\",\n",
    "    \"dies\": \"die\",\n",
    "    \"lotus\": \"lotus\",\n",
    "    \"tinctorius\": \"tinctorius\",\n",
    "    \"gymnastics\": \"gymnastics\",\n",
    "    \"mollis\": \"mollis\",\n",
    "    \"myosotis\": \"myosotis\",\n",
    "    \"australis\": \"australis\",\n",
    "    \"gas\": \"gas\",\n",
    "    \"gps\": \"gps\",\n",
    "    \"guatemalensis\": \"guatemalensis\",\n",
    "    \"elegans\": \"elegans\",\n",
    "    \"christmas\": \"christmas\",\n",
    "    \"cosmos\": \"cosmos\",\n",
    "    \"xps\": \"xps\",\n",
    "    \"muralis\": \"muralis\",\n",
    "    \"narcissus\": \"narcissus\",\n",
    "    \"barbatus\": \"barbatus\",\n",
    "    \"cactus\": \"cactus\",\n",
    "    \"hibiscus\": \"hibiscus\",\n",
    "    \"callus\": \"callus\",\n",
    "    \"cycas\": \"cycas\",\n",
    "    \"prunus\": \"prunus\",\n",
    "    \"overalls\": \"overalls\",\n",
    "    \"nitrous\": \"nitrous\",\n",
    "    \"bellis\": \"bellis\",\n",
    "    \"coreopsis\": \"coreopsis\",\n",
    "    \"iris\": \"iris\",\n",
    "    \"erinus\": \"erinus\",\n",
    "    \"plectranthus\": \"plectranthus\",\n",
    "    \"euryops\": \"euryops\",\n",
    "    \"hyacinthus\": \"hyacinthus\",\n",
    "    \"rhipsalidopsis\": \"rhipsalidopsis\",\n",
    "    \"cos\": \"cos\",\n",
    "    \"orientalis\": \"orientalis\",\n",
    "    \"annuus\": \"annuus\",\n",
    "    \"lotononis\": \"lotononis\",\n",
    "    \"sylvestris\": \"sylvestris\",\n",
    "    \"argus\": \"argus\",\n",
    "    \"sinensis\": \"sinensis\",\n",
    "    \"crocus\": \"crocus\",\n",
    "    \"corylus\": \"corylus\",\n",
    "    \"edulis\": \"edulis\",\n",
    "    \"paris\": \"paris\",\n",
    "    \"helianthus\": \"helianthus\",\n",
    "    \"orchis\": \"orchis\",\n",
    "    \"zamioculcas\": \"zamioculcas\",\n",
    "    \"psoriasis\": \"psoriasis\",\n",
    "    \"stylus\": \"stylus\",\n",
    "    \"abies\": \"abies\",\n",
    "    \"cupressus\": \"cupressus\",\n",
    "    \"grandis\": \"grandis\",\n",
    "    \"hupehensis\": \"hupehensis\",\n",
    "    \"pinus\": \"pinus\",\n",
    "    \"cannabis\": \"cannabis\",\n",
    "    \"cucumis\": \"cucumis\",\n",
    "    \"ficus\": \"ficus\",\n",
    "    \"physalis\": \"physalis\",\n",
    "    \"corniculatus\": \"corniculatus\",\n",
    "    \"dypsis\": \"dypsis\",\n",
    "    \"vulgaris\": \"vulgaris\",\n",
    "    \"nephrolepis\": \"nephrolepis\",\n",
    "    \"gracilis\": \"gracilis\",\n",
    "    \"asiaticus\": \"asiaticus\",\n",
    "    \"babacos\": \"babacos\",\n",
    "    \"helleborus\": \"helleborus\",\n",
    "    \"lupinus\": \"lupinus\",\n",
    "    \"rhapis\": \"rhapis\",\n",
    "    \"cyperus\": \"cyperus\",\n",
    "    \"ruscus\": \"ruscus\",\n",
    "    \"opulus\": \"opulus\",\n",
    "    \"lutescens\": \"lutescens\",\n",
    "    \"perennis\": \"perennis\",\n",
    "    \"index\": \"index,\"\n",
    "}\n",
    "\n",
    "# Initial descriptors (common words that don't help differentiate categories)\n",
    "descriptors = [\n",
    "    \"accessory\",\n",
    "    \"live\",\n",
    "    \"part\",\n",
    "    \"replacement\",\n",
    "    \"equipment\",\n",
    "    \"product\",\n",
    "    \"cut\",\n",
    "    \"ready\",\n",
    "    \"prepared\",\n",
    "    \"processed\",\n",
    "    \"unprepared\",\n",
    "    \"unprocessed\",\n",
    "    \"sport\",\n",
    "    \"baby\",\n",
    "    \"garden\",\n",
    "    \"non\",\n",
    "    \"kit\",\n",
    "    \"set\",\n",
    "    \"pack\",\n",
    "]\n",
    "\n",
    "# List the brands in your store. If any brand names are dictionary words, they should not be included here.\n",
    "brands = []\n",
    "\n",
    "# Initial synonyms (regional variations, etc.)\n",
    "# For English, this might be empty or contain British/American variations\n",
    "synonyms = {\n",
    "    \"sneaker\": \"shoe\",\n",
    "}\n",
    "\n",
    "print(\"Initial data structures prepared.\")\n"
   ]
  },
  {
   "cell_type": "markdown",
   "id": "4d3d240d682bc6ba",
   "metadata": {},
   "source": [
    "### TextCleaner Instantiation"
   ]
  },
  {
   "cell_type": "code",
   "execution_count": null,
   "id": "d690b3bae62d5da9",
   "metadata": {},
   "outputs": [],
   "source": [
    "# This cell will be re-run after refinements\n",
    "def instantiate_text_cleaner():\n",
    "    from amzn_smart_product_onboarding_metaclasses.text_cleaner import TextCleaner\n",
    "\n",
    "    return TextCleaner(\n",
    "        singularize=singularize_exceptions,\n",
    "        brands=brands,\n",
    "        synonyms=synonyms,\n",
    "        descriptors=descriptors,\n",
    "        language=\"english\"  # or your target language\n",
    "    )\n",
    "\n",
    "\n",
    "text_cleaner = instantiate_text_cleaner()\n",
    "print(\"TextCleaner instantiated with current data structures.\")"
   ]
  },
  {
   "cell_type": "markdown",
   "id": "511d47e3505f84c",
   "metadata": {},
   "source": [
    "### Category Name Analysis\n",
    "\n",
    "In this section, we'll clean our category names and analyze the results. This analysis helps us:\n",
    "\n",
    "1. Identify common words across categories\n",
    "2. Spot potential new descriptors (words that appear frequently but don't differentiate categories)\n",
    "3. Ensure our cleaning process is working as expected\n",
    "\n",
    "By iterating on this analysis, we can refine our text cleaning process and improve our understanding of the category structure.\n"
   ]
  },
  {
   "cell_type": "code",
   "execution_count": null,
   "id": "fc09b2e4d847b949",
   "metadata": {},
   "outputs": [],
   "source": [
    "# This cell will be re-run after refinements\n",
    "def analyze_category_names(df):\n",
    "    # Clean category names using TextCleaner\n",
    "    cleaned_df = df.copy()\n",
    "    cleaned_df['clean_name'] = cleaned_df['name'].apply(text_cleaner.clean_text)\n",
    "    cleaned_df = cleaned_df.dropna()\n",
    "\n",
    "    # Tokenize and count words in cleaned category names\n",
    "    all_words = ' '.join(cleaned_df['clean_name']).split()\n",
    "    word_counts = Counter(all_words)\n",
    "\n",
    "    print(\"Most common words in cleaned category names:\")\n",
    "    print(word_counts.most_common(20))\n",
    "\n",
    "    # Identify potential new descriptors (words that appear in many categories)\n",
    "    potential_new_descriptors = [word for word, count in word_counts.items()\n",
    "                                 if count > len(cleaned_df) * 0.05 and word not in descriptors]\n",
    "    print(\"\\nPotential new descriptors to consider:\")\n",
    "    print(potential_new_descriptors)\n",
    "\n",
    "    # Display sample of cleaned names\n",
    "    print(\"\\nSample of cleaned category names:\")\n",
    "    print(cleaned_df[['name', 'clean_name']].head())\n",
    "\n",
    "    # Return the new dataframe\n",
    "    return cleaned_df\n",
    "\n",
    "\n",
    "cleaned_leaf_df = analyze_category_names(leaf_df)\n",
    "cleaned_leaf_df.head()"
   ]
  },
  {
   "cell_type": "code",
   "execution_count": null,
   "id": "561d092a60ce80a2",
   "metadata": {},
   "outputs": [],
   "source": [
    "mappings_df = cleaned_leaf_df[[\"clean_name\", \"id\"]].rename(columns={\"clean_name\": \"name\"})"
   ]
  },
  {
   "cell_type": "markdown",
   "id": "91c68fe64d4a3428",
   "metadata": {},
   "source": [
    "#### Refinement Process\n",
    "If there are any words above that are in many categories, consider adding them to the list of descriptors in `Text Refinement Preparation` and re-run the `TextCleaner` and `Category Name Analysis` steps."
   ]
  },
  {
   "cell_type": "markdown",
   "id": "9ada77d774f9653b",
   "metadata": {},
   "source": [
    "### Word Frequency Analysis\n",
    "\n",
    "Understanding the frequency of words in our cleaned category names provides valuable insights:\n",
    "\n",
    "1. It helps identify terms that are central to our category structure\n",
    "2. It can reveal potential issues in our cleaning process (e.g., if very common words aren't being removed as expected)\n",
    "3. It guides the refinement of our descriptor list and other cleaning parameters\n",
    "\n",
    "This analysis is crucial for optimizing our categorization process and ensuring we're focusing on the most meaningful terms.\n"
   ]
  },
  {
   "cell_type": "code",
   "execution_count": null,
   "id": "70667954f60e27f8",
   "metadata": {},
   "outputs": [],
   "source": [
    "def analyze_word_frequency(df):\n",
    "    word_freq_df = pd.DataFrame(df['clean_name'].str.split(expand=True).stack().value_counts()).reset_index()\n",
    "    word_freq_df.columns = ['word', 'frequency']\n",
    "    word_freq_df['percentage'] = word_freq_df['frequency'] / len(df) * 100\n",
    "    return word_freq_df\n",
    "\n",
    "\n",
    "word_freq_df = analyze_word_frequency(cleaned_leaf_df)\n",
    "print(\"Word frequency analysis:\")\n",
    "word_freq_df"
   ]
  },
  {
   "cell_type": "code",
   "execution_count": null,
   "id": "ea80a015d03e1bdb",
   "metadata": {
    "collapsed": false,
    "jupyter": {
     "outputs_hidden": false
    }
   },
   "outputs": [],
   "source": [
    "word_map = {}\n",
    "n = 0\n",
    "for _, cat in cleaned_leaf_df.iterrows():\n",
    "    for word in cat['clean_name'].split():\n",
    "        if word == '' or word == ' ' or word == 'other':\n",
    "            n += 1\n",
    "            continue\n",
    "        if word not in word_map:\n",
    "            word_map[word] = {cat['id']}\n",
    "        else:\n",
    "            word_map[word].add(cat['id'])\n",
    "\n",
    "unique_count_df = pd.DataFrame([{'word': k, 'count': len(v)} for k, v in word_map.items()])\n",
    "\n",
    "print(f'Total of \"Other\" {n}')\n",
    "print(f'Unique leaf category words {len(word_map)}')"
   ]
  },
  {
   "cell_type": "code",
   "execution_count": null,
   "id": "8f36f6742b2a1e80",
   "metadata": {
    "collapsed": false,
    "jupyter": {
     "outputs_hidden": false
    }
   },
   "outputs": [],
   "source": [
    "unique_leaves = {}\n",
    "unique_leaves_list = []\n",
    "n = 0\n",
    "for word in cleaned_leaf_df['clean_name']:\n",
    "    if word == '' or word == ' ' or word == 'other':\n",
    "        n += 1\n",
    "        continue\n",
    "    if word not in unique_leaves:\n",
    "        unique_leaves[word] = 1\n",
    "        unique_leaves_list.append(word)\n",
    "    else:\n",
    "        unique_leaves[word] += 1\n",
    "print(f'Total of \"Other\" {n}')\n",
    "print(f'Unique leaf category names {len(unique_leaves)}')"
   ]
  },
  {
   "cell_type": "markdown",
   "id": "9a2a70c822711a54",
   "metadata": {},
   "source": [
    "## Vector Embeddings\n",
    "\n",
    "While exact word matches are our primary method for categorization, vector embeddings provide a powerful complement:\n",
    "\n",
    "1. They allow us to find similar words, helping with synonyms and related terms\n",
    "2. They can capture semantic relationships that aren't apparent from exact matches alone\n",
    "3. They're especially useful for handling nuanced or ambiguous category names\n",
    "\n",
    "By combining exact matches with vector-based similarity, we create a more robust and flexible categorization system.\n"
   ]
  },
  {
   "cell_type": "code",
   "execution_count": null,
   "id": "4149056b26a0dd79",
   "metadata": {},
   "outputs": [],
   "source": [
    "#Chilean Spanish Embeddings\n",
    "#EMBEDDINGS_MODEL_URL=\"https://zenodo.org/records/3255001/files/embeddings-l-model.vec\"\n",
    "\n",
    "#English Embeddings\n",
    "DEFAULT_EMBEDDINGS_MODEL_URL = \"https://dl.fbaipublicfiles.com/fasttext/vectors-english/crawl-300d-2M.vec.zip\"\n"
   ]
  },
  {
   "cell_type": "code",
   "execution_count": null,
   "id": "9a5ec1898a1d7c91",
   "metadata": {},
   "outputs": [],
   "source": [
    "try:\n",
    "    embeddings_model_url = ssm.get_parameter(Name=f\"{ssm_prefix}EmbeddingsModelUrl\")['Parameter']['Value']\n",
    "except ssm.exceptions.ParameterNotFound:\n",
    "    print(\n",
    "        \"Paramater not found. Falling back to default. Did you deploy the infrastructure yet? Did you configure the url in .projenrc.ts?\")\n",
    "    embeddings_model_url = DEFAULT_EMBEDDINGS_MODEL_URL"
   ]
  },
  {
   "cell_type": "code",
   "execution_count": null,
   "id": "6bf2b1e39d4ed393",
   "metadata": {},
   "outputs": [],
   "source": [
    "from gensim.models.keyedvectors import KeyedVectors\n",
    "import tempfile\n",
    "import zipfile\n",
    "import requests\n",
    "import os\n",
    "from urllib.parse import urlparse"
   ]
  },
  {
   "cell_type": "code",
   "execution_count": null,
   "id": "a2aaef4f35300b75",
   "metadata": {},
   "outputs": [],
   "source": [
    "def secure_download(url, destination):\n",
    "    # Parse the URL to extract the hostname\n",
    "    parsed_url = urlparse(url)\n",
    "\n",
    "    # Check if the URL uses HTTPS\n",
    "    if parsed_url.scheme != 'https':\n",
    "        raise ValueError(\"URL must use HTTPS\")\n",
    "\n",
    "    # Perform the request with a timeout and verify SSL certificates\n",
    "    response = requests.get(url, timeout=30, verify=True, stream=True)\n",
    "\n",
    "    # Raise an exception for bad status codes\n",
    "    response.raise_for_status()\n",
    "\n",
    "    # Write the content to the file\n",
    "    with open(destination, 'wb') as f:\n",
    "        for chunk in response.iter_content(chunk_size=8192):\n",
    "            f.write(chunk)"
   ]
  },
  {
   "cell_type": "markdown",
   "id": "94f4b99b-8847-44e6-a6f8-bcd3909dbe0d",
   "metadata": {},
   "source": [
    "This next step may take a long time whiel downloading and loading the vectors file."
   ]
  },
  {
   "cell_type": "code",
   "execution_count": null,
   "id": "9c3aa38b221d1da0",
   "metadata": {},
   "outputs": [],
   "source": [
    "vecfile_basename = os.path.basename(embeddings_model_url)\n",
    "with tempfile.TemporaryDirectory() as tmpdirname:\n",
    "    secure_download(embeddings_model_url, os.path.join(tmpdirname, vecfile_basename))\n",
    "    print(f'Downloaded embeddings {embeddings_model_url}')\n",
    "    if vecfile_basename.endswith('.zip'):\n",
    "        print(f'Extracting embeddings {embeddings_model_url}')\n",
    "        with zipfile.ZipFile(os.path.join(tmpdirname, vecfile_basename), 'r') as zip_ref:\n",
    "            zip_ref.extractall(tmpdirname)\n",
    "        print(f'Extracted embeddings {embeddings_model_url}')\n",
    "        EMBEDDINGS_MODEL = os.path.join(tmpdirname, vecfile_basename.replace('.zip', ''))\n",
    "    elif vecfile_basename.endswith('.vec'):\n",
    "        EMBEDDINGS_MODEL = os.path.join(tmpdirname, vecfile_basename)\n",
    "\n",
    "    print(f'Loading embeddings {EMBEDDINGS_MODEL}')\n",
    "    wordvectors = KeyedVectors.load_word2vec_format(EMBEDDINGS_MODEL)\n",
    "    print(f'Embeddings {EMBEDDINGS_MODEL} loaded')"
   ]
  },
  {
   "cell_type": "code",
   "execution_count": null,
   "id": "2f07f3a376a25f50",
   "metadata": {},
   "outputs": [],
   "source": [
    "unique_words_in_vectors = [w for w in word_map.keys() if wordvectors.has_index_for(w)]"
   ]
  },
  {
   "cell_type": "code",
   "execution_count": null,
   "id": "fb034361a65167a4",
   "metadata": {},
   "outputs": [],
   "source": [
    "print(f\"wordvectors contains {len(unique_words_in_vectors)}/{len(word_map)} category words\")"
   ]
  },
  {
   "cell_type": "markdown",
   "id": "b57ffa4ce084c7c1",
   "metadata": {},
   "source": [
    "## Media Categories\n",
    "\n",
    "Some product categories, particularly in media (books, movies, games), present unique challenges:\n",
    "\n",
    "1. Their titles often don't contain words that suggest the product type\n",
    "2. They require special handling to ensure accurate categorization\n",
    "\n",
    "By always including these categories in our categorization process, we ensure that media products are correctly identified, even when their titles don't contain typical category keywords.\n",
    "\n",
    "Review the category tree, and make a list of categories to always include."
   ]
  },
  {
   "cell_type": "code",
   "execution_count": null,
   "id": "59331794f7a13111",
   "metadata": {},
   "outputs": [],
   "source": [
    "def get_child_category_ids(cat_ids: list[str]) -> list[str]:\n",
    "    categories = []\n",
    "    for cat_id in cat_ids:\n",
    "        if not category_tree[cat_id][\"childs\"]:\n",
    "            categories.append(cat_id)\n",
    "        else:\n",
    "            categories.extend(get_child_category_ids([child[\"id\"] for child in category_tree[cat_id][\"childs\"]]))\n",
    "    return categories\n"
   ]
  },
  {
   "cell_type": "code",
   "execution_count": null,
   "id": "325624c59d09db6a",
   "metadata": {},
   "outputs": [],
   "source": [
    "always_category_ids = [\n",
    "    # Classes\n",
    "    \"68040100\",  # Pre-Recorded or Digital Content Media\n",
    "    \"68050100\",  # Audio Visual/Photography Variety Packs\n",
    "    \"65010400\",  # Computer/Video Game Software\n",
    "    \"65010900\",  # Computers/Video Games Variety Packs\n",
    "    \"60010200\",  # Books\n",
    "    \"60010300\",  # Periodicals\n",
    "\n",
    "    # Bricks\n",
    "    \"10001194\",  # GPS Software - Mobile Communications\n",
    "    \"10006237\",  # GPS Software - Mobile Communications - Digital\n",
    "    \"10001197\",  # Mobile Phone Software\n",
    "    \"10006238\",  # Mobile Phone Software - Digital\n",
    "    \"10000624\",  # Cross Segment Variety Packs\n",
    "    \"10002103\",  # Textual/Printed/Reference Materials Variety Packs\n",
    "]\n",
    "always_categories = get_child_category_ids(always_category_ids)\n"
   ]
  },
  {
   "cell_type": "code",
   "execution_count": null,
   "id": "9db94c4057603f8c",
   "metadata": {},
   "outputs": [],
   "source": [
    "len(always_categories)"
   ]
  },
  {
   "cell_type": "markdown",
   "id": "8a4cf99112781489",
   "metadata": {
    "jp-MarkdownHeadingCollapsed": true
   },
   "source": [
    "## Language Adaptation(Optional)\n",
    "\n",
    "To adapt this process for a different language, we need to modify several components. Let's go through the steps you'd need to take."
   ]
  },
  {
   "cell_type": "markdown",
   "id": "12e6a4f916862de0",
   "metadata": {},
   "source": [
    "### 1. Update Stop Words\n",
    "\n",
    "For a new language, you'll need to update the stop words used in text cleaning."
   ]
  },
  {
   "cell_type": "code",
   "execution_count": null,
   "id": "2282228c19842c63",
   "metadata": {},
   "outputs": [],
   "source": [
    "import nltk\n",
    "\n",
    "nltk.download('stopwords')\n",
    "\n",
    "# Example: Changing to Spanish stop words\n",
    "from nltk.corpus import stopwords\n",
    "\n",
    "spanish_stop_words = set(stopwords.words('spanish'))\n",
    "print(\"Sample of Spanish stop words:\")\n",
    "print(list(spanish_stop_words)[:20])\n",
    "\n",
    "# In the TextCleaner class, you'd update the language and stop words like this:\n",
    "# text_cleaner.language = 'spanish'\n",
    "# text_cleaner._remove_stopwords_tokenize_text = lambda text: ' '.join(\n",
    "#     [w for w in nltk.word_tokenize(text) if w.lower() not in spanish_stop_words]\n",
    "# )"
   ]
  },
  {
   "cell_type": "markdown",
   "id": "2e26a85d7b01892b",
   "metadata": {},
   "source": [
    "### 2. Update Singularization Rules\n",
    "\n",
    "The singularization process is highly language-dependent. For languages other than English, you may need to implement custom singularization logic."
   ]
  },
  {
   "cell_type": "code",
   "execution_count": null,
   "id": "d546442e245edefb",
   "metadata": {},
   "outputs": [],
   "source": [
    "# Example: Spanish singularization rules (simplified)\n",
    "def spanish_singularize(word):\n",
    "    if word.endswith('es'):\n",
    "        return word[:-2]\n",
    "    elif word.endswith('s'):\n",
    "        return word[:-1]\n",
    "    return word\n",
    "\n",
    "\n",
    "print(\"Example of Spanish singularization:\")\n",
    "print(spanish_singularize(\"gatos\"))  # Should print \"gato\"\n"
   ]
  },
  {
   "cell_type": "markdown",
   "id": "8352aeb67be8ce7d",
   "metadata": {},
   "source": [
    "### 3. Update Synonyms and Descriptors\n",
    "\n",
    "Synonyms and descriptors need to be updated for the new language:"
   ]
  },
  {
   "cell_type": "code",
   "execution_count": null,
   "id": "30dd6ad5507198ab",
   "metadata": {},
   "outputs": [],
   "source": [
    "# Example: Spanish synonyms and descriptors\n",
    "spanish_synonyms = {\n",
    "    \"ordenador\": \"computadora\",\n",
    "    \"movil\": \"celular\"\n",
    "}\n",
    "\n",
    "spanish_descriptors = [\n",
    "    \"nuevo\", \"grande\", \"pequeno\"\n",
    "]\n",
    "\n",
    "print(\"Example Spanish synonyms:\", spanish_synonyms)\n",
    "print(\"Example Spanish descriptors:\", spanish_descriptors)\n"
   ]
  },
  {
   "cell_type": "markdown",
   "id": "d2e5ee763c7e0180",
   "metadata": {},
   "source": [
    "### 4. Word Embeddings for Different Languages\n",
    "\n",
    "For the metaclass identification process, you'll need word embeddings in the target language. You can find pre-trained word embeddings for many languages on the [FastText website](https://fasttext.cc/docs/en/crawl-vectors.html).\n",
    "\n",
    "```\n",
    "# Example of loading Spanish word embeddings (you would need to download these first)\n",
    "# spanish_embeddings_file = 'path_to_spanish_embeddings.vec'\n",
    "# spanish_wordvectors = KeyedVectors.load_word2vec_format(spanish_embeddings_file)\n",
    "\n",
    "# print(\"Example of Spanish word vector:\")\n",
    "# print(spanish_wordvectors['gato'])\n",
    "```"
   ]
  },
  {
   "cell_type": "markdown",
   "id": "9da521c7d254ea45",
   "metadata": {},
   "source": [
    "### Next Steps\n",
    "\n",
    "After adapting these components for your target language:\n",
    "\n",
    "1. Re-run the category name analysis with the new language settings.\n",
    "2. Generate new metaclasses based on the cleaned category names in the target language.\n",
    "3. Use the language-specific word embeddings for further processing and analysis.\n",
    "\n",
    "Remember to thoroughly test the adapted system with a sample of product data in the target language to ensure it's performing as expected."
   ]
  },
  {
   "cell_type": "markdown",
   "id": "c8d49e11c6394396",
   "metadata": {},
   "source": [
    "## Persist Categories and Configuration\n",
    "\n",
    "Persisting our prepared data and configurations is a critical step.\n",
    "\n",
    "By storing this data in S3 and configuration paths in SSM Parameter Store, we create a flexible, scalable foundation for our categorization system.\n",
    "\n",
    "Upload needed files to the configuration S3 bucket created in the CDK deployment and save the paths in SSM parameter store."
   ]
  },
  {
   "cell_type": "code",
   "execution_count": null,
   "id": "a95489962d123750",
   "metadata": {},
   "outputs": [],
   "source": [
    "df_words = pd.DataFrame(unique_leaves.keys(), columns=['name'])\n",
    "df_words.to_json('data/metaclasses.json')\n",
    "df_words.head(15)"
   ]
  },
  {
   "cell_type": "code",
   "execution_count": null,
   "id": "3756b7f0088c938",
   "metadata": {},
   "outputs": [],
   "source": [
    "mappings_df.to_json('data/mappings.json')"
   ]
  },
  {
   "cell_type": "code",
   "execution_count": null,
   "id": "cf4a45f311e97a13",
   "metadata": {},
   "outputs": [],
   "source": [
    "def encode_set(obj):\n",
    "    if isinstance(obj, set):\n",
    "        return list(obj)"
   ]
  },
  {
   "cell_type": "code",
   "execution_count": null,
   "id": "eb752c068d2d3dfb",
   "metadata": {},
   "outputs": [],
   "source": [
    "with open(\"data/word_map.json\", \"w\") as f:\n",
    "    json.dump(word_map, f, default=encode_set)"
   ]
  },
  {
   "cell_type": "code",
   "execution_count": null,
   "id": "8c9444695bd98649",
   "metadata": {},
   "outputs": [],
   "source": [
    "with open(\"data/vector_words.json\", \"w\") as f:\n",
    "    json.dump(unique_words_in_vectors, f)"
   ]
  },
  {
   "cell_type": "code",
   "execution_count": null,
   "id": "f57f0a6fabb07c48",
   "metadata": {},
   "outputs": [],
   "source": [
    "with open('data/marcas.json', 'w') as f:\n",
    "    json.dump(brands, f)"
   ]
  },
  {
   "cell_type": "code",
   "execution_count": null,
   "id": "28d1d90aa5ef9ce7",
   "metadata": {},
   "outputs": [],
   "source": [
    "with open(\"data/singularize.json\", \"w\") as f:\n",
    "    json.dump(singularize_exceptions, f)"
   ]
  },
  {
   "cell_type": "code",
   "execution_count": null,
   "id": "4ed40b6ca140bda5",
   "metadata": {},
   "outputs": [],
   "source": [
    "with open(\"data/descriptors.json\", \"w\") as f:\n",
    "    json.dump(descriptors, f)"
   ]
  },
  {
   "cell_type": "code",
   "execution_count": null,
   "id": "53f946cc37190d90",
   "metadata": {},
   "outputs": [],
   "source": [
    "with open(\"data/synonyms.json\", \"w\") as f:\n",
    "    json.dump(synonyms, f)"
   ]
  },
  {
   "cell_type": "code",
   "execution_count": null,
   "id": "d729e8d8c56d4a1b",
   "metadata": {},
   "outputs": [],
   "source": [
    "with open(\"data/always.json\", \"w\") as f:\n",
    "    json.dump(always_categories, f)"
   ]
  },
  {
   "cell_type": "code",
   "execution_count": null,
   "id": "4ed414b2445478e1",
   "metadata": {
    "tags": []
   },
   "outputs": [],
   "source": [
    "config_bucket = ssm.get_parameter(Name=f\"{ssm_prefix}ConfigurationBucket\")['Parameter']['Value']"
   ]
  },
  {
   "cell_type": "code",
   "execution_count": null,
   "id": "c2560eff0d49e4d8",
   "metadata": {},
   "outputs": [],
   "source": [
    "!aws s3 cp data/labelcats.json s3://{config_bucket}/data/\n",
    "!aws s3 cp data/metaclasses.json s3://{config_bucket}/data/\n",
    "!aws s3 cp data/mappings.json s3://{config_bucket}/data/\n",
    "!aws s3 cp data/vector_words.json s3://{config_bucket}/data/\n",
    "!aws s3 cp data/word_map.json s3://{config_bucket}/data/\n",
    "!aws s3 cp data/marcas.json s3://{config_bucket}/data/\n",
    "!aws s3 cp data/singularize.json s3://{config_bucket}/data/\n",
    "!aws s3 cp data/synonyms.json s3://{config_bucket}/data/\n",
    "!aws s3 cp data/descriptors.json s3://{config_bucket}/data/\n",
    "!aws s3 cp data/always.json s3://{config_bucket}/data/\n"
   ]
  },
  {
   "cell_type": "code",
   "execution_count": null,
   "id": "23b476085f6cf377",
   "metadata": {},
   "outputs": [],
   "source": [
    "ssm.put_parameter(\n",
    "    Name=f\"{ssm_prefix}MetaclassPaths\",\n",
    "    Value=json.dumps({\n",
    "        \"categoryTree\": \"data/labelcats.json\",\n",
    "        \"metaclasses\": \"data/metaclasses.json\",\n",
    "        \"mappings\": \"data/mappings.json\",\n",
    "        \"vectorWords\": \"data/vector_words.json\",\n",
    "        \"wordMap\": \"data/word_map.json\",\n",
    "        \"brands\": \"data/marcas.json\",\n",
    "        \"singularize\": \"data/singularize.json\",\n",
    "        \"synonyms\": \"data/synonyms.json\",\n",
    "        \"descriptors\": \"data/descriptors.json\",\n",
    "        \"alwaysCategories\": \"data/always.json\",\n",
    "    }),\n",
    "    Type=\"String\",\n",
    "    Overwrite=True,\n",
    ")"
   ]
  },
  {
   "cell_type": "markdown",
   "id": "6148d5709cff140a",
   "metadata": {},
   "source": [
    "## Conclusion\n",
    "\n",
    "This notebook has guided you through the process of generating metaclasses from a category tree and adapting the process for different languages. Key steps included:\n",
    "\n",
    "1. Loading and analyzing the category tree\n",
    "2. Preparing and refining text cleaning configurations\n",
    "3. Generating metaclasses from cleaned category names\n",
    "4. Outlining the process for adapting to different languages\n",
    "\n",
    "By following these steps and iterating as needed, you can create a robust system for categorizing products in your language and market."
   ]
  }
 ],
 "metadata": {
  "availableInstances": [
   {
    "_defaultOrder": 0,
    "_isFastLaunch": true,
    "category": "General purpose",
    "gpuNum": 0,
    "hideHardwareSpecs": false,
    "memoryGiB": 4,
    "name": "ml.t3.medium",
    "vcpuNum": 2
   },
   {
    "_defaultOrder": 1,
    "_isFastLaunch": false,
    "category": "General purpose",
    "gpuNum": 0,
    "hideHardwareSpecs": false,
    "memoryGiB": 8,
    "name": "ml.t3.large",
    "vcpuNum": 2
   },
   {
    "_defaultOrder": 2,
    "_isFastLaunch": false,
    "category": "General purpose",
    "gpuNum": 0,
    "hideHardwareSpecs": false,
    "memoryGiB": 16,
    "name": "ml.t3.xlarge",
    "vcpuNum": 4
   },
   {
    "_defaultOrder": 3,
    "_isFastLaunch": false,
    "category": "General purpose",
    "gpuNum": 0,
    "hideHardwareSpecs": false,
    "memoryGiB": 32,
    "name": "ml.t3.2xlarge",
    "vcpuNum": 8
   },
   {
    "_defaultOrder": 4,
    "_isFastLaunch": true,
    "category": "General purpose",
    "gpuNum": 0,
    "hideHardwareSpecs": false,
    "memoryGiB": 8,
    "name": "ml.m5.large",
    "vcpuNum": 2
   },
   {
    "_defaultOrder": 5,
    "_isFastLaunch": false,
    "category": "General purpose",
    "gpuNum": 0,
    "hideHardwareSpecs": false,
    "memoryGiB": 16,
    "name": "ml.m5.xlarge",
    "vcpuNum": 4
   },
   {
    "_defaultOrder": 6,
    "_isFastLaunch": false,
    "category": "General purpose",
    "gpuNum": 0,
    "hideHardwareSpecs": false,
    "memoryGiB": 32,
    "name": "ml.m5.2xlarge",
    "vcpuNum": 8
   },
   {
    "_defaultOrder": 7,
    "_isFastLaunch": false,
    "category": "General purpose",
    "gpuNum": 0,
    "hideHardwareSpecs": false,
    "memoryGiB": 64,
    "name": "ml.m5.4xlarge",
    "vcpuNum": 16
   },
   {
    "_defaultOrder": 8,
    "_isFastLaunch": false,
    "category": "General purpose",
    "gpuNum": 0,
    "hideHardwareSpecs": false,
    "memoryGiB": 128,
    "name": "ml.m5.8xlarge",
    "vcpuNum": 32
   },
   {
    "_defaultOrder": 9,
    "_isFastLaunch": false,
    "category": "General purpose",
    "gpuNum": 0,
    "hideHardwareSpecs": false,
    "memoryGiB": 192,
    "name": "ml.m5.12xlarge",
    "vcpuNum": 48
   },
   {
    "_defaultOrder": 10,
    "_isFastLaunch": false,
    "category": "General purpose",
    "gpuNum": 0,
    "hideHardwareSpecs": false,
    "memoryGiB": 256,
    "name": "ml.m5.16xlarge",
    "vcpuNum": 64
   },
   {
    "_defaultOrder": 11,
    "_isFastLaunch": false,
    "category": "General purpose",
    "gpuNum": 0,
    "hideHardwareSpecs": false,
    "memoryGiB": 384,
    "name": "ml.m5.24xlarge",
    "vcpuNum": 96
   },
   {
    "_defaultOrder": 12,
    "_isFastLaunch": false,
    "category": "General purpose",
    "gpuNum": 0,
    "hideHardwareSpecs": false,
    "memoryGiB": 8,
    "name": "ml.m5d.large",
    "vcpuNum": 2
   },
   {
    "_defaultOrder": 13,
    "_isFastLaunch": false,
    "category": "General purpose",
    "gpuNum": 0,
    "hideHardwareSpecs": false,
    "memoryGiB": 16,
    "name": "ml.m5d.xlarge",
    "vcpuNum": 4
   },
   {
    "_defaultOrder": 14,
    "_isFastLaunch": false,
    "category": "General purpose",
    "gpuNum": 0,
    "hideHardwareSpecs": false,
    "memoryGiB": 32,
    "name": "ml.m5d.2xlarge",
    "vcpuNum": 8
   },
   {
    "_defaultOrder": 15,
    "_isFastLaunch": false,
    "category": "General purpose",
    "gpuNum": 0,
    "hideHardwareSpecs": false,
    "memoryGiB": 64,
    "name": "ml.m5d.4xlarge",
    "vcpuNum": 16
   },
   {
    "_defaultOrder": 16,
    "_isFastLaunch": false,
    "category": "General purpose",
    "gpuNum": 0,
    "hideHardwareSpecs": false,
    "memoryGiB": 128,
    "name": "ml.m5d.8xlarge",
    "vcpuNum": 32
   },
   {
    "_defaultOrder": 17,
    "_isFastLaunch": false,
    "category": "General purpose",
    "gpuNum": 0,
    "hideHardwareSpecs": false,
    "memoryGiB": 192,
    "name": "ml.m5d.12xlarge",
    "vcpuNum": 48
   },
   {
    "_defaultOrder": 18,
    "_isFastLaunch": false,
    "category": "General purpose",
    "gpuNum": 0,
    "hideHardwareSpecs": false,
    "memoryGiB": 256,
    "name": "ml.m5d.16xlarge",
    "vcpuNum": 64
   },
   {
    "_defaultOrder": 19,
    "_isFastLaunch": false,
    "category": "General purpose",
    "gpuNum": 0,
    "hideHardwareSpecs": false,
    "memoryGiB": 384,
    "name": "ml.m5d.24xlarge",
    "vcpuNum": 96
   },
   {
    "_defaultOrder": 20,
    "_isFastLaunch": false,
    "category": "General purpose",
    "gpuNum": 0,
    "hideHardwareSpecs": true,
    "memoryGiB": 0,
    "name": "ml.geospatial.interactive",
    "supportedImageNames": [
     "sagemaker-geospatial-v1-0"
    ],
    "vcpuNum": 0
   },
   {
    "_defaultOrder": 21,
    "_isFastLaunch": true,
    "category": "Compute optimized",
    "gpuNum": 0,
    "hideHardwareSpecs": false,
    "memoryGiB": 4,
    "name": "ml.c5.large",
    "vcpuNum": 2
   },
   {
    "_defaultOrder": 22,
    "_isFastLaunch": false,
    "category": "Compute optimized",
    "gpuNum": 0,
    "hideHardwareSpecs": false,
    "memoryGiB": 8,
    "name": "ml.c5.xlarge",
    "vcpuNum": 4
   },
   {
    "_defaultOrder": 23,
    "_isFastLaunch": false,
    "category": "Compute optimized",
    "gpuNum": 0,
    "hideHardwareSpecs": false,
    "memoryGiB": 16,
    "name": "ml.c5.2xlarge",
    "vcpuNum": 8
   },
   {
    "_defaultOrder": 24,
    "_isFastLaunch": false,
    "category": "Compute optimized",
    "gpuNum": 0,
    "hideHardwareSpecs": false,
    "memoryGiB": 32,
    "name": "ml.c5.4xlarge",
    "vcpuNum": 16
   },
   {
    "_defaultOrder": 25,
    "_isFastLaunch": false,
    "category": "Compute optimized",
    "gpuNum": 0,
    "hideHardwareSpecs": false,
    "memoryGiB": 72,
    "name": "ml.c5.9xlarge",
    "vcpuNum": 36
   },
   {
    "_defaultOrder": 26,
    "_isFastLaunch": false,
    "category": "Compute optimized",
    "gpuNum": 0,
    "hideHardwareSpecs": false,
    "memoryGiB": 96,
    "name": "ml.c5.12xlarge",
    "vcpuNum": 48
   },
   {
    "_defaultOrder": 27,
    "_isFastLaunch": false,
    "category": "Compute optimized",
    "gpuNum": 0,
    "hideHardwareSpecs": false,
    "memoryGiB": 144,
    "name": "ml.c5.18xlarge",
    "vcpuNum": 72
   },
   {
    "_defaultOrder": 28,
    "_isFastLaunch": false,
    "category": "Compute optimized",
    "gpuNum": 0,
    "hideHardwareSpecs": false,
    "memoryGiB": 192,
    "name": "ml.c5.24xlarge",
    "vcpuNum": 96
   },
   {
    "_defaultOrder": 29,
    "_isFastLaunch": true,
    "category": "Accelerated computing",
    "gpuNum": 1,
    "hideHardwareSpecs": false,
    "memoryGiB": 16,
    "name": "ml.g4dn.xlarge",
    "vcpuNum": 4
   },
   {
    "_defaultOrder": 30,
    "_isFastLaunch": false,
    "category": "Accelerated computing",
    "gpuNum": 1,
    "hideHardwareSpecs": false,
    "memoryGiB": 32,
    "name": "ml.g4dn.2xlarge",
    "vcpuNum": 8
   },
   {
    "_defaultOrder": 31,
    "_isFastLaunch": false,
    "category": "Accelerated computing",
    "gpuNum": 1,
    "hideHardwareSpecs": false,
    "memoryGiB": 64,
    "name": "ml.g4dn.4xlarge",
    "vcpuNum": 16
   },
   {
    "_defaultOrder": 32,
    "_isFastLaunch": false,
    "category": "Accelerated computing",
    "gpuNum": 1,
    "hideHardwareSpecs": false,
    "memoryGiB": 128,
    "name": "ml.g4dn.8xlarge",
    "vcpuNum": 32
   },
   {
    "_defaultOrder": 33,
    "_isFastLaunch": false,
    "category": "Accelerated computing",
    "gpuNum": 4,
    "hideHardwareSpecs": false,
    "memoryGiB": 192,
    "name": "ml.g4dn.12xlarge",
    "vcpuNum": 48
   },
   {
    "_defaultOrder": 34,
    "_isFastLaunch": false,
    "category": "Accelerated computing",
    "gpuNum": 1,
    "hideHardwareSpecs": false,
    "memoryGiB": 256,
    "name": "ml.g4dn.16xlarge",
    "vcpuNum": 64
   },
   {
    "_defaultOrder": 35,
    "_isFastLaunch": false,
    "category": "Accelerated computing",
    "gpuNum": 1,
    "hideHardwareSpecs": false,
    "memoryGiB": 61,
    "name": "ml.p3.2xlarge",
    "vcpuNum": 8
   },
   {
    "_defaultOrder": 36,
    "_isFastLaunch": false,
    "category": "Accelerated computing",
    "gpuNum": 4,
    "hideHardwareSpecs": false,
    "memoryGiB": 244,
    "name": "ml.p3.8xlarge",
    "vcpuNum": 32
   },
   {
    "_defaultOrder": 37,
    "_isFastLaunch": false,
    "category": "Accelerated computing",
    "gpuNum": 8,
    "hideHardwareSpecs": false,
    "memoryGiB": 488,
    "name": "ml.p3.16xlarge",
    "vcpuNum": 64
   },
   {
    "_defaultOrder": 38,
    "_isFastLaunch": false,
    "category": "Accelerated computing",
    "gpuNum": 8,
    "hideHardwareSpecs": false,
    "memoryGiB": 768,
    "name": "ml.p3dn.24xlarge",
    "vcpuNum": 96
   },
   {
    "_defaultOrder": 39,
    "_isFastLaunch": false,
    "category": "Memory Optimized",
    "gpuNum": 0,
    "hideHardwareSpecs": false,
    "memoryGiB": 16,
    "name": "ml.r5.large",
    "vcpuNum": 2
   },
   {
    "_defaultOrder": 40,
    "_isFastLaunch": false,
    "category": "Memory Optimized",
    "gpuNum": 0,
    "hideHardwareSpecs": false,
    "memoryGiB": 32,
    "name": "ml.r5.xlarge",
    "vcpuNum": 4
   },
   {
    "_defaultOrder": 41,
    "_isFastLaunch": false,
    "category": "Memory Optimized",
    "gpuNum": 0,
    "hideHardwareSpecs": false,
    "memoryGiB": 64,
    "name": "ml.r5.2xlarge",
    "vcpuNum": 8
   },
   {
    "_defaultOrder": 42,
    "_isFastLaunch": false,
    "category": "Memory Optimized",
    "gpuNum": 0,
    "hideHardwareSpecs": false,
    "memoryGiB": 128,
    "name": "ml.r5.4xlarge",
    "vcpuNum": 16
   },
   {
    "_defaultOrder": 43,
    "_isFastLaunch": false,
    "category": "Memory Optimized",
    "gpuNum": 0,
    "hideHardwareSpecs": false,
    "memoryGiB": 256,
    "name": "ml.r5.8xlarge",
    "vcpuNum": 32
   },
   {
    "_defaultOrder": 44,
    "_isFastLaunch": false,
    "category": "Memory Optimized",
    "gpuNum": 0,
    "hideHardwareSpecs": false,
    "memoryGiB": 384,
    "name": "ml.r5.12xlarge",
    "vcpuNum": 48
   },
   {
    "_defaultOrder": 45,
    "_isFastLaunch": false,
    "category": "Memory Optimized",
    "gpuNum": 0,
    "hideHardwareSpecs": false,
    "memoryGiB": 512,
    "name": "ml.r5.16xlarge",
    "vcpuNum": 64
   },
   {
    "_defaultOrder": 46,
    "_isFastLaunch": false,
    "category": "Memory Optimized",
    "gpuNum": 0,
    "hideHardwareSpecs": false,
    "memoryGiB": 768,
    "name": "ml.r5.24xlarge",
    "vcpuNum": 96
   },
   {
    "_defaultOrder": 47,
    "_isFastLaunch": false,
    "category": "Accelerated computing",
    "gpuNum": 1,
    "hideHardwareSpecs": false,
    "memoryGiB": 16,
    "name": "ml.g5.xlarge",
    "vcpuNum": 4
   },
   {
    "_defaultOrder": 48,
    "_isFastLaunch": false,
    "category": "Accelerated computing",
    "gpuNum": 1,
    "hideHardwareSpecs": false,
    "memoryGiB": 32,
    "name": "ml.g5.2xlarge",
    "vcpuNum": 8
   },
   {
    "_defaultOrder": 49,
    "_isFastLaunch": false,
    "category": "Accelerated computing",
    "gpuNum": 1,
    "hideHardwareSpecs": false,
    "memoryGiB": 64,
    "name": "ml.g5.4xlarge",
    "vcpuNum": 16
   },
   {
    "_defaultOrder": 50,
    "_isFastLaunch": false,
    "category": "Accelerated computing",
    "gpuNum": 1,
    "hideHardwareSpecs": false,
    "memoryGiB": 128,
    "name": "ml.g5.8xlarge",
    "vcpuNum": 32
   },
   {
    "_defaultOrder": 51,
    "_isFastLaunch": false,
    "category": "Accelerated computing",
    "gpuNum": 1,
    "hideHardwareSpecs": false,
    "memoryGiB": 256,
    "name": "ml.g5.16xlarge",
    "vcpuNum": 64
   },
   {
    "_defaultOrder": 52,
    "_isFastLaunch": false,
    "category": "Accelerated computing",
    "gpuNum": 4,
    "hideHardwareSpecs": false,
    "memoryGiB": 192,
    "name": "ml.g5.12xlarge",
    "vcpuNum": 48
   },
   {
    "_defaultOrder": 53,
    "_isFastLaunch": false,
    "category": "Accelerated computing",
    "gpuNum": 4,
    "hideHardwareSpecs": false,
    "memoryGiB": 384,
    "name": "ml.g5.24xlarge",
    "vcpuNum": 96
   },
   {
    "_defaultOrder": 54,
    "_isFastLaunch": false,
    "category": "Accelerated computing",
    "gpuNum": 8,
    "hideHardwareSpecs": false,
    "memoryGiB": 768,
    "name": "ml.g5.48xlarge",
    "vcpuNum": 192
   },
   {
    "_defaultOrder": 55,
    "_isFastLaunch": false,
    "category": "Accelerated computing",
    "gpuNum": 8,
    "hideHardwareSpecs": false,
    "memoryGiB": 1152,
    "name": "ml.p4d.24xlarge",
    "vcpuNum": 96
   },
   {
    "_defaultOrder": 56,
    "_isFastLaunch": false,
    "category": "Accelerated computing",
    "gpuNum": 8,
    "hideHardwareSpecs": false,
    "memoryGiB": 1152,
    "name": "ml.p4de.24xlarge",
    "vcpuNum": 96
   },
   {
    "_defaultOrder": 57,
    "_isFastLaunch": false,
    "category": "Accelerated computing",
    "gpuNum": 0,
    "hideHardwareSpecs": false,
    "memoryGiB": 32,
    "name": "ml.trn1.2xlarge",
    "vcpuNum": 8
   },
   {
    "_defaultOrder": 58,
    "_isFastLaunch": false,
    "category": "Accelerated computing",
    "gpuNum": 0,
    "hideHardwareSpecs": false,
    "memoryGiB": 512,
    "name": "ml.trn1.32xlarge",
    "vcpuNum": 128
   },
   {
    "_defaultOrder": 59,
    "_isFastLaunch": false,
    "category": "Accelerated computing",
    "gpuNum": 0,
    "hideHardwareSpecs": false,
    "memoryGiB": 512,
    "name": "ml.trn1n.32xlarge",
    "vcpuNum": 128
   }
  ],
  "instance_type": "ml.m5.large",
  "kernelspec": {
   "display_name": "Python 3 (ipykernel)",
   "language": "python",
   "name": "python3"
  },
  "language_info": {
   "codemirror_mode": {
    "name": "ipython",
    "version": 3
   },
   "file_extension": ".py",
   "mimetype": "text/x-python",
   "name": "python",
   "nbconvert_exporter": "python",
   "pygments_lexer": "ipython3",
   "version": "3.12.7"
  }
 },
 "nbformat": 4,
 "nbformat_minor": 5
}
